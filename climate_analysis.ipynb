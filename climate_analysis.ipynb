{
 "cells": [
  {
   "cell_type": "code",
   "execution_count": 1,
   "metadata": {
    "collapsed": true
   },
   "outputs": [],
   "source": [
    "import seaborn as sns\n",
    "import numpy as np\n",
    "import pandas as pd\n",
    "from pandas.plotting import table\n",
    "import datetime as dt\n",
    "import matplotlib.pyplot as plt\n",
    "import datetime as dt\n",
    "\n",
    "import sqlalchemy\n",
    "from sqlalchemy.ext.automap import automap_base\n",
    "from sqlalchemy.orm import Session\n",
    "from sqlalchemy import create_engine, func"
   ]
  },
  {
   "cell_type": "code",
   "execution_count": 2,
   "metadata": {
    "collapsed": true
   },
   "outputs": [],
   "source": [
    "#create the engine\n",
    "engine = create_engine(\"sqlite:///hawaii.sqlite\")"
   ]
  },
  {
   "cell_type": "code",
   "execution_count": 3,
   "metadata": {},
   "outputs": [
    {
     "data": {
      "text/plain": [
       "['Hawaii_Weather']"
      ]
     },
     "execution_count": 3,
     "metadata": {},
     "output_type": "execute_result"
    }
   ],
   "source": [
    "#Create the Base\n",
    "Base = automap_base()\n",
    "Base.prepare(engine, reflect = True)\n",
    "Base.classes.keys()"
   ]
  },
  {
   "cell_type": "code",
   "execution_count": 4,
   "metadata": {
    "collapsed": true
   },
   "outputs": [],
   "source": [
    "weather_station = Base.classes.Hawaii_Weather"
   ]
  },
  {
   "cell_type": "code",
   "execution_count": 5,
   "metadata": {
    "collapsed": true
   },
   "outputs": [],
   "source": [
    "session=Session(engine)"
   ]
  },
  {
   "cell_type": "code",
   "execution_count": 6,
   "metadata": {},
   "outputs": [
    {
     "data": {
      "image/png": "[encoded data removed]",
      "text/plain": [
       "<matplotlib.figure.Figure at 0x16540a27748>"
      ]
     },
     "metadata": {},
     "output_type": "display_data"
    }
   ],
   "source": [
    "past_year = dt.date.today() - dt.timedelta(days=365)\n",
    "\n",
    "past_year_prcp = session.query(weather_station.date, weather_station.prcp).filter(weather_station.date >= past_year).all()\n",
    "\n",
    "prcp_df = pd.DataFrame(past_year_prcp, columns=['date', 'percip'])\n",
    "prcp_df.set_index(prcp_df['date'], inplace = True)\n",
    "\n",
    "prcp_df.plot()\n",
    "plt.xticks(rotation=\"45\")\n",
    "plt.ylabel(\"percipitation\")\n",
    "plt.title(\"Percipitation vs. date for the past year\")\n",
    "plt.show()"
   ]
  },
  {
   "cell_type": "code",
   "execution_count": 7,
   "metadata": {},
   "outputs": [
    {
     "data": {
      "text/html": [
       "<div>\n",
       "<style>\n",
       "    .dataframe thead tr:only-child th {\n",
       "        text-align: right;\n",
       "    }\n",
       "\n",
       "    .dataframe thead th {\n",
       "        text-align: left;\n",
       "    }\n",
       "\n",
       "    .dataframe tbody tr th {\n",
       "        vertical-align: top;\n",
       "    }\n",
       "</style>\n",
       "<table border=\"1\" class=\"dataframe\">\n",
       "  <thead>\n",
       "    <tr style=\"text-align: right;\">\n",
       "      <th></th>\n",
       "      <th>percip</th>\n",
       "    </tr>\n",
       "  </thead>\n",
       "  <tbody>\n",
       "    <tr>\n",
       "      <th>count</th>\n",
       "      <td>561.000000</td>\n",
       "    </tr>\n",
       "    <tr>\n",
       "      <th>mean</th>\n",
       "      <td>0.130624</td>\n",
       "    </tr>\n",
       "    <tr>\n",
       "      <th>std</th>\n",
       "      <td>0.304464</td>\n",
       "    </tr>\n",
       "    <tr>\n",
       "      <th>min</th>\n",
       "      <td>0.000000</td>\n",
       "    </tr>\n",
       "    <tr>\n",
       "      <th>25%</th>\n",
       "      <td>0.000000</td>\n",
       "    </tr>\n",
       "    <tr>\n",
       "      <th>50%</th>\n",
       "      <td>0.020000</td>\n",
       "    </tr>\n",
       "    <tr>\n",
       "      <th>75%</th>\n",
       "      <td>0.120000</td>\n",
       "    </tr>\n",
       "    <tr>\n",
       "      <th>max</th>\n",
       "      <td>4.000000</td>\n",
       "    </tr>\n",
       "  </tbody>\n",
       "</table>\n",
       "</div>"
      ],
      "text/plain": [
       "           percip\n",
       "count  561.000000\n",
       "mean     0.130624\n",
       "std      0.304464\n",
       "min      0.000000\n",
       "25%      0.000000\n",
       "50%      0.020000\n",
       "75%      0.120000\n",
       "max      4.000000"
      ]
     },
     "execution_count": 7,
     "metadata": {},
     "output_type": "execute_result"
    }
   ],
   "source": [
    "prcp_df.describe()"
   ]
  },
  {
   "cell_type": "code",
   "execution_count": 8,
   "metadata": {},
   "outputs": [
    {
     "data": {
      "text/plain": [
       "9"
      ]
     },
     "execution_count": 8,
     "metadata": {},
     "output_type": "execute_result"
    }
   ],
   "source": [
    "session.query(weather_station.station).group_by(weather_station.station).count()"
   ]
  },
  {
   "cell_type": "code",
   "execution_count": 9,
   "metadata": {},
   "outputs": [
    {
     "data": {
      "text/plain": [
       "[('USC00519281', 2772),\n",
       " ('USC00513117', 2696),\n",
       " ('USC00519397', 2685),\n",
       " ('USC00519523', 2572),\n",
       " ('USC00516128', 2484),\n",
       " ('USC00514830', 1937),\n",
       " ('USC00511918', 1932),\n",
       " ('USC00517948', 683),\n",
       " ('USC00518838', 342)]"
      ]
     },
     "execution_count": 9,
     "metadata": {},
     "output_type": "execute_result"
    }
   ],
   "source": [
    "session.query(weather_station.station, func.count(weather_station.station)).group_by(weather_station.station).order_by(func.count(weather_station.station).desc()).all()"
   ]
  },
  {
   "cell_type": "code",
   "execution_count": 10,
   "metadata": {},
   "outputs": [
    {
     "data": {
      "text/plain": [
       "[(54, 85, 71.66378066378067)]"
      ]
     },
     "execution_count": 10,
     "metadata": {},
     "output_type": "execute_result"
    }
   ],
   "source": [
    "session.query(func.min(weather_station.tobs), func.max(weather_station.tobs), func.avg(weather_station.tobs)).filter(weather_station.station == 'USC00519281').all()"
   ]
  },
  {
   "cell_type": "code",
   "execution_count": 11,
   "metadata": {},
   "outputs": [
    {
     "data": {
      "text/plain": [
       "[(75),\n",
       " (70),\n",
       " (67),\n",
       " (74),\n",
       " (70),\n",
       " (75),\n",
       " (76),\n",
       " (77),\n",
       " (74),\n",
       " (74),\n",
       " (74),\n",
       " (69),\n",
       " (68),\n",
       " (76),\n",
       " (74),\n",
       " (71),\n",
       " (71),\n",
       " (74),\n",
       " (74),\n",
       " (74),\n",
       " (74),\n",
       " (80),\n",
       " (74),\n",
       " (72),\n",
       " (75),\n",
       " (80),\n",
       " (76),\n",
       " (76),\n",
       " (77),\n",
       " (75),\n",
       " (75),\n",
       " (75),\n",
       " (75),\n",
       " (72),\n",
       " (74),\n",
       " (74),\n",
       " (74),\n",
       " (76),\n",
       " (74),\n",
       " (75),\n",
       " (73),\n",
       " (79),\n",
       " (75),\n",
       " (72),\n",
       " (72),\n",
       " (74),\n",
       " (72),\n",
       " (72),\n",
       " (77),\n",
       " (71),\n",
       " (73),\n",
       " (76),\n",
       " (77),\n",
       " (76),\n",
       " (76),\n",
       " (79),\n",
       " (81),\n",
       " (76),\n",
       " (78),\n",
       " (77),\n",
       " (74),\n",
       " (75),\n",
       " (78),\n",
       " (78),\n",
       " (69),\n",
       " (72),\n",
       " (74),\n",
       " (74),\n",
       " (76),\n",
       " (80),\n",
       " (80),\n",
       " (76),\n",
       " (76),\n",
       " (76),\n",
       " (77),\n",
       " (77),\n",
       " (77),\n",
       " (82),\n",
       " (75),\n",
       " (77),\n",
       " (75),\n",
       " (76),\n",
       " (81),\n",
       " (82),\n",
       " (81),\n",
       " (76),\n",
       " (77),\n",
       " (82),\n",
       " (83),\n",
       " (77),\n",
       " (77),\n",
       " (77),\n",
       " (76),\n",
       " (76),\n",
       " (79)]"
      ]
     },
     "execution_count": 11,
     "metadata": {},
     "output_type": "execute_result"
    }
   ],
   "source": [
    "data = session.query(weather_station.tobs).filter(weather_station.station == 'USC00519281').filter(weather_station.date >= past_year).all()\n",
    "data"
   ]
  },
  {
   "cell_type": "code",
   "execution_count": 12,
   "metadata": {},
   "outputs": [
    {
     "data": {
      "image/png": "[encoded data removed]",
      "text/plain": [
       "<matplotlib.figure.Figure at 0x16540a27160>"
      ]
     },
     "metadata": {},
     "output_type": "display_data"
    }
   ],
   "source": [
    "past_temp = session.query(weather_station.tobs).filter(weather_station.station == 'USC00519281').filter(weather_station.date >= past_year).all()\n",
    "sns.distplot(past_temp, bins = 12, kde = False)\n",
    "plt.title(\"Past 12 Months Temperature Distribution\")\n",
    "plt.ylabel(\"Months\")\n",
    "plt.xlabel(\"Temperature (Degree F)\")\n",
    "plt.show()"
   ]
  },
  {
   "cell_type": "code",
   "execution_count": 13,
   "metadata": {},
   "outputs": [
    {
     "name": "stdout",
     "output_type": "stream",
     "text": [
      "[(62, 82, 71.1829268292683)]\n"
     ]
    }
   ],
   "source": [
    "#Create Calc Temps Function\n",
    "\n",
    "def calc_temps(startdate, enddate):\n",
    "    return session.query(func.min(weather_station.tobs),  func.max(weather_station.tobs), func.avg(weather_station.tobs)).filter(weather_station.date >= startdate).filter(weather_station.date <= enddate).all()\n",
    "\n",
    "print(calc_temps('2017-03-01', '2017-03-15'))"
   ]
  },
  {
   "cell_type": "code",
   "execution_count": 14,
   "metadata": {},
   "outputs": [
    {
     "data": {
      "text/plain": [
       "62"
      ]
     },
     "execution_count": 14,
     "metadata": {},
     "output_type": "execute_result"
    }
   ],
   "source": [
    "stuff = calc_temps('2017-03-01', '2017-03-15')\n",
    "stuff[0][0]"
   ]
  },
  {
   "cell_type": "code",
   "execution_count": 15,
   "metadata": {
    "collapsed": true
   },
   "outputs": [],
   "source": [
    "min_temp = []\n",
    "max_temp = []\n",
    "avg_temp = []\n",
    "years = ['2010','2011','2012','2013','2014','2015','2016','2017']\n",
    "\n",
    "for year in years:\n",
    "    temp_data = calc_temps(f'{year}-03-01', f'{year}-03-15')\n",
    "    min_temp.append(temp_data[0][0])\n",
    "    max_temp.append(temp_data[0][1])\n",
    "    avg_temp.append(temp_data[0][2])\n",
    "    \n"
   ]
  },
  {
   "cell_type": "code",
   "execution_count": 21,
   "metadata": {},
   "outputs": [
    {
     "data": {
      "image/png": "[encoded data removed]",
      "text/plain": [
       "<matplotlib.figure.Figure at 0x1654117f668>"
      ]
     },
     "metadata": {},
     "output_type": "display_data"
    }
   ],
   "source": [
    "vaca_temp_df = pd.DataFrame(avg_temp)\n",
    "temp_err = \n",
    "sns.barplot()\n",
    "plt.show()"
   ]
  },
  {
   "cell_type": "code",
   "execution_count": null,
   "metadata": {
    "collapsed": true
   },
   "outputs": [],
   "source": []
  }
 ],
 "metadata": {
  "kernelspec": {
   "display_name": "Python 3",
   "language": "python",
   "name": "python3"
  },
  "language_info": {
   "codemirror_mode": {
    "name": "ipython",
    "version": 3
   },
   "file_extension": ".py",
   "mimetype": "text/x-python",
   "name": "python",
   "nbconvert_exporter": "python",
   "pygments_lexer": "ipython3",
   "version": "3.6.3"
  }
 },
 "nbformat": 4,
 "nbformat_minor": 2
}
